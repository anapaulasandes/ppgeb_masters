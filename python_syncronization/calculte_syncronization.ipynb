{
 "cells": [
  {
   "cell_type": "code",
   "execution_count": null,
   "metadata": {},
   "outputs": [],
   "source": [
    "import pandas as pd\n",
    "import os\n",
    "import io"
   ]
  },
  {
   "cell_type": "code",
   "execution_count": null,
   "metadata": {},
   "outputs": [],
   "source": [
    "data_path = \"/Users/anasouza/ppgeb_masters/data/teste_ana_13_08.txt\""
   ]
  },
  {
   "cell_type": "code",
   "execution_count": null,
   "metadata": {},
   "outputs": [],
   "source": [
    "data_list = []\n",
    "with io.open(data_path, mode=\"r\", encoding=\"utf-8\") as f:\n",
    "    for line in f:\n",
    "        data_list.append(line.rstrip().split())"
   ]
  },
  {
   "cell_type": "code",
   "execution_count": null,
   "metadata": {},
   "outputs": [],
   "source": [
    "\n",
    "def replace_blink_values(val):\n",
    "    if val != 0:\n",
    "        x = 500\n",
    "    else:\n",
    "        x = 0\n",
    "    return x\n",
    "\n",
    "\n",
    "def identificar_blink_eeg(val):\n",
    "    try: \n",
    "        x = int(val)\n",
    "        if x > 150:\n",
    "            return 500\n",
    "        else:\n",
    "            return val\n",
    "    except:\n",
    "        return val\n",
    "\n",
    "\n",
    "def clean_dataset(data_list):\n",
    "    df = pd.DataFrame(data_list)\n",
    "    df.columns=df.iloc[0] \n",
    "    df = df.iloc[1:]\n",
    "    df.iloc[-1,-1] = df.iloc[-1,3]\n",
    "    df.USER = df.USER.replace(\"START_RECORDING\", 100).replace(\"STOP_EYETRACKER\", 200)\n",
    "    df = df.loc[df[\"USER\"] != \"CLIENT2_READY\"]\n",
    "    df = df.loc[df.USER.notnull()]\n",
    "\n",
    "    df.USER = df.USER.astype(int)\n",
    "    df.BKID = df.BKID.astype(float)\n",
    "\n",
    "    df[\"BKID\"] = df.BKID.apply(replace_blink_values)\n",
    "    df['USER'] = df.USER.apply(identificar_blink_eeg)\n",
    "\n",
    "    df[\"BKID\"] = df[\"BKID\"].astype(\"object\")\n",
    "    df[\"USER\"] = df[\"USER\"].astype(\"object\")\n",
    "    df[\"USER\"] = df[\"USER\"].astype(\"object\")\n",
    "\n",
    "    eeg = df.iloc[:,[2,-1]]\n",
    "    et = df.iloc[:,:-1]\n",
    "\n",
    "    return df, eeg, et"
   ]
  },
  {
   "cell_type": "code",
   "execution_count": null,
   "metadata": {},
   "outputs": [],
   "source": [
    "df, eeg, et = clean_dataset(data_list)"
   ]
  },
  {
   "cell_type": "code",
   "execution_count": null,
   "metadata": {},
   "outputs": [],
   "source": [
    "df"
   ]
  },
  {
   "cell_type": "code",
   "execution_count": null,
   "metadata": {},
   "outputs": [],
   "source": [
    "df.loc[df.USER == 500]['BKID'].value_counts()"
   ]
  },
  {
   "cell_type": "code",
   "execution_count": 70,
   "metadata": {},
   "outputs": [],
   "source": [
    "from scipy.stats.stats import pearsonr \n",
    "import scipy.signal"
   ]
  },
  {
   "cell_type": "code",
   "execution_count": 71,
   "metadata": {},
   "outputs": [],
   "source": [
    "def is_500(val):\n",
    "    if val == 500:\n",
    "        return 500\n",
    "    else:\n",
    "        return 0\n",
    "\n",
    "def get_blink_corr(df):\n",
    "    x = df.USER.apply(is_500)\n",
    "    y = df.BKID.apply(is_500)\n",
    "    return pearsonr(x,y)\n",
    "\n"
   ]
  },
  {
   "cell_type": "code",
   "execution_count": 72,
   "metadata": {},
   "outputs": [],
   "source": [
    "import matplotlib.pyplot as plt\n",
    "import numpy as np"
   ]
  },
  {
   "cell_type": "code",
   "execution_count": 73,
   "metadata": {},
   "outputs": [],
   "source": [
    "def plot_both(df, inicio, final):\n",
    "\n",
    "    df_plot = df.loc[df[\"USER\"] != \"START_RECORDING 100\"]\n",
    "    df_plot = df_plot.loc[df[\"USER\"] != \"STOP_EYETRACKER 200\"]\n",
    "    df_plot = df_plot.loc[df[\"USER\"].notnull()]\n",
    "\n",
    "    df_plot = df_plot.iloc[inicio:final,:]\n",
    "\n",
    "    df_plot.USER = df_plot.USER.astype(int)\n",
    "    df_plot.TIME = df_plot.TIME.astype(float) \n",
    "    df_plot.BKID = df_plot.BKID.astype(int)\n",
    "\n",
    "    df_plot[\"BKID\"] = df_plot.BKID.apply(replace_blink_values)\n",
    "\n",
    "    ax1 = df_plot.USER.plot(color='blue', grid=True, label='Count')\n",
    "    ax2 = df_plot.BKID.plot(color='orange', grid=True, secondary_y=True)\n",
    "\n",
    "    h1, l1 = ax1.get_legend_handles_labels()\n",
    "    h2, l2 = ax2.get_legend_handles_labels()\n",
    "\n",
    "    plt.show()\n",
    "\n",
    "    eeg = df_plot.iloc[:,[2,-1]]\n",
    "    et = df_plot.iloc[:,:-1]\n",
    "\n",
    "    x = df_plot.USER.apply(is_500)\n",
    "    y = df_plot.BKID.apply(is_500)\n",
    "    \n",
    "    print(f\"perason r: {pearsonr(x,y)}\")\n",
    "    print(f\"cross-correlation: {np.correlate(x, y)}\")\n",
    "    print(f\"scipy-cross-corr: {scipy.signal.correlate(x, y)}\")\n",
    "    return x, y"
   ]
  },
  {
   "cell_type": "code",
   "execution_count": 77,
   "metadata": {},
   "outputs": [
    {
     "data": {
      "image/png": "[encoded data removed]",
      "text/plain": [
       "<Figure size 432x288 with 2 Axes>"
      ]
     },
     "metadata": {
      "needs_background": "light"
     },
     "output_type": "display_data"
    },
    {
     "name": "stdout",
     "output_type": "stream",
     "text": [
      "perason r: (0.1346537293478315, 0.057299142460540464)\n",
      "cross-correlation: [2000000]\n",
      "scipy-cross-corr: [      0       0       0       0       0       0       0       0       0\n",
      "       0       0       0       0       0       0       0       0       0\n",
      "       0       0       0       0       0       0       0       0       0\n",
      "       0       0       0       0       0       0       0       0       0\n",
      "       0       0       0       0       0       0       0       0       0\n",
      "       0       0       0       0       0       0       0       0       0\n",
      "       0       0       0       0       0       0       0       0       0\n",
      "       0       0       0  250000  250000  500000  500000  500000  500000\n",
      "  500000  500000  500000  500000  500000  500000  500000  500000  500000\n",
      "  500000  500000  500000  500000  500000  500000  500000  500000  500000\n",
      "  750000 1000000 1250000 1250000 1250000 1000000 1000000 1000000 1000000\n",
      " 1000000 1000000 1000000 1000000 1000000 1000000 1000000 1000000 1250000\n",
      " 1250000 1250000 1250000 1250000 1250000 1250000 1250000 1250000 1250000\n",
      " 1250000 1000000  750000  500000  500000  500000  500000  500000  500000\n",
      "  500000  500000  500000  500000  500000  500000  500000  500000  250000\n",
      "  250000  250000  250000  250000  250000  250000  250000  250000  250000\n",
      "       0       0       0       0       0       0       0  250000  500000\n",
      "  750000  750000  750000 1000000 1250000 1250000 1250000 1500000 1500000\n",
      " 1750000 1750000 2000000 2250000 2250000 2250000 2250000 2250000 2250000\n",
      " 2250000 2250000 2250000 2250000 2250000 2250000 2250000 2250000 2000000\n",
      " 2000000 2000000 2000000 1750000 1750000 2000000 2250000 2500000 2500000\n",
      " 2500000 2500000 2250000 2000000 2000000 2000000 2000000 2000000 2000000\n",
      " 2000000 2000000 2000000 2250000 2250000 2000000 1750000 1500000 1000000\n",
      "  750000  500000  500000  500000  750000  750000  750000  750000  750000\n",
      "  750000  750000  750000  750000  500000  500000  500000  500000  500000\n",
      "  500000  500000  500000  500000  500000  250000  250000       0       0\n",
      "       0       0       0       0       0       0       0       0       0\n",
      "       0       0  250000  500000  750000  750000  750000 1000000 1250000\n",
      " 1250000 1250000 1250000 1250000 1250000 1250000 1500000 1750000 1750000\n",
      " 1750000 1750000 1750000 1500000 1250000 1000000 1000000 1000000  750000\n",
      "  500000  500000  750000 1000000 1250000 1500000 1500000 1250000 1000000\n",
      " 1000000 1000000 1000000 1000000 1000000 1000000 1000000 1000000 1000000\n",
      " 1000000 1000000 1000000  750000  500000  250000       0       0       0\n",
      "       0       0  250000  250000  250000  250000  250000  250000  250000\n",
      "  250000  250000  250000  250000  250000  250000  250000  250000  250000\n",
      "  250000  250000  250000       0       0       0       0       0       0\n",
      "       0       0       0       0       0       0       0       0       0\n",
      "       0       0       0       0       0       0       0       0       0\n",
      "       0       0       0       0       0       0       0       0       0\n",
      "       0       0       0       0       0       0       0       0       0\n",
      "       0       0       0       0       0       0       0       0       0\n",
      "       0       0       0       0       0       0       0       0       0\n",
      "       0       0       0       0       0       0       0       0       0\n",
      "       0       0       0       0       0       0       0       0       0\n",
      "       0       0       0]\n"
     ]
    }
   ],
   "source": [
    "x, y = plot_both(df, 1000, 1200)"
   ]
  },
  {
   "cell_type": "code",
   "execution_count": null,
   "metadata": {},
   "outputs": [],
   "source": [
    "get_blink_corr(df) #pouca correlação, mesmo quando em sinais binários. Vamos tentar de outra forma."
   ]
  },
  {
   "cell_type": "code",
   "execution_count": null,
   "metadata": {},
   "outputs": [],
   "source": []
  },
  {
   "cell_type": "code",
   "execution_count": null,
   "metadata": {},
   "outputs": [],
   "source": []
  },
  {
   "cell_type": "markdown",
   "metadata": {},
   "source": [
    "# Calcular a Sincronização"
   ]
  },
  {
   "cell_type": "code",
   "execution_count": null,
   "metadata": {},
   "outputs": [],
   "source": [
    "!pip install OpenSync"
   ]
  },
  {
   "cell_type": "code",
   "execution_count": null,
   "metadata": {},
   "outputs": [],
   "source": [
    "import OpenSync"
   ]
  },
  {
   "cell_type": "code",
   "execution_count": null,
   "metadata": {},
   "outputs": [],
   "source": [
    "? OpenSync.EEG"
   ]
  },
  {
   "cell_type": "code",
   "execution_count": null,
   "metadata": {},
   "outputs": [],
   "source": []
  }
 ],
 "metadata": {
  "kernelspec": {
   "display_name": "Python 3.10.4 ('python-sync')",
   "language": "python",
   "name": "python3"
  },
  "language_info": {
   "codemirror_mode": {
    "name": "ipython",
    "version": 3
   },
   "file_extension": ".py",
   "mimetype": "text/x-python",
   "name": "python",
   "nbconvert_exporter": "python",
   "pygments_lexer": "ipython3",
   "version": "3.10.4"
  },
  "orig_nbformat": 4,
  "vscode": {
   "interpreter": {
    "hash": "e20597b0f7c38918ed80c89199b711c8ca33810dbcd8a279004fda0cfac99e85"
   }
  }
 },
 "nbformat": 4,
 "nbformat_minor": 2
}
